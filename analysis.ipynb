{
 "cells": [
  {
   "cell_type": "markdown",
   "id": "ac948315",
   "metadata": {},
   "source": [
    "🚀 Project Initialization   \n",
    "This repository is the starting point of my Titanic Data Analysis project. The goal is to explore the Titanic dataset, clean and preprocess the data, perform exploratory analysis, and build predictive models to understand which factors influenced passenger survival.   \n",
    "-------------\n",
    "📦 Next Steps   \n",
    "- Set up the project structure (data, notebooks, src, reports).  \n",
    "- Install the required Python libraries.  \n",
    "- Begin exploratory data analysis (EDA).\n",
    "-------------\n",
    "⚙️ Required Libraries:"
   ]
  },
  {
   "cell_type": "code",
   "execution_count": 1,
   "id": "dd444dc2",
   "metadata": {},
   "outputs": [
    {
     "name": "stdout",
     "output_type": "stream",
     "text": [
      "Note: you may need to restart the kernel to use updated packages.\n"
     ]
    },
    {
     "name": "stderr",
     "output_type": "stream",
     "text": [
      "\n",
      "[notice] A new release of pip is available: 24.3.1 -> 25.2\n",
      "[notice] To update, run: python.exe -m pip install --upgrade pip\n"
     ]
    }
   ],
   "source": [
    "%pip install pandas numpy matplotlib seaborn scikit-learn jupyterlab nbconvert imblearn -q "
   ]
  },
  {
   "cell_type": "code",
   "execution_count": null,
   "id": "6096fc96",
   "metadata": {},
   "outputs": [],
   "source": []
  }
 ],
 "metadata": {
  "kernelspec": {
   "display_name": ".venv (3.13.2)",
   "language": "python",
   "name": "python3"
  },
  "language_info": {
   "codemirror_mode": {
    "name": "ipython",
    "version": 3
   },
   "file_extension": ".py",
   "mimetype": "text/x-python",
   "name": "python",
   "nbconvert_exporter": "python",
   "pygments_lexer": "ipython3",
   "version": "3.13.2"
  }
 },
 "nbformat": 4,
 "nbformat_minor": 5
}
