{
 "cells": [
  {
   "cell_type": "markdown",
   "id": "ac948315",
   "metadata": {},
   "source": [
    "🚀 Project Initialization   \n",
    "This repository is the starting point of my Titanic Data Analysis project. The goal is to explore the Titanic dataset, clean and preprocess the data, perform exploratory analysis, and build predictive models to understand which factors influenced passenger survival.   \n",
    "-------------\n",
    "📦 Next Steps   \n",
    "- Set up the project structure (data, notebooks, src, reports).  \n",
    "- Install the required Python libraries.  \n",
    "- Begin exploratory data analysis (EDA).\n",
    "-------------\n",
    "⚙️ Required Libraries:"
   ]
  },
  {
   "cell_type": "code",
   "execution_count": null,
   "id": "dd444dc2",
   "metadata": {},
   "outputs": [],
   "source": [
    "%pip install pandas numpy matplotlib seaborn scikit-learn jupyterlab nbconvert imblearn -q "
   ]
  },
  {
   "cell_type": "markdown",
   "id": "a18a4761",
   "metadata": {},
   "source": [
    "🔹 Next Steps: \n",
    "\n",
    "- Read the CSV file using pandas.  \n",
    "- Inspect the first few rows and basic information (.head(), .info(), .describe()).  \n",
    "- Begin exploratory data analysis (EDA)."
   ]
  },
  {
   "cell_type": "code",
   "execution_count": 6,
   "id": "6096fc96",
   "metadata": {},
   "outputs": [
    {
     "name": "stdout",
     "output_type": "stream",
     "text": [
      "<class 'pandas.core.frame.DataFrame'>\n",
      "RangeIndex: 891 entries, 0 to 890\n",
      "Data columns (total 12 columns):\n",
      " #   Column       Non-Null Count  Dtype  \n",
      "---  ------       --------------  -----  \n",
      " 0   PassengerId  891 non-null    int64  \n",
      " 1   Survived     891 non-null    int64  \n",
      " 2   Pclass       891 non-null    int64  \n",
      " 3   Name         891 non-null    object \n",
      " 4   Sex          891 non-null    object \n",
      " 5   Age          714 non-null    float64\n",
      " 6   SibSp        891 non-null    int64  \n",
      " 7   Parch        891 non-null    int64  \n",
      " 8   Ticket       891 non-null    object \n",
      " 9   Fare         891 non-null    float64\n",
      " 10  Cabin        204 non-null    object \n",
      " 11  Embarked     889 non-null    object \n",
      "dtypes: float64(2), int64(5), object(5)\n",
      "memory usage: 83.7+ KB\n"
     ]
    }
   ],
   "source": [
    "import pandas as pd\n",
    "\n",
    "data = r\"D:\\Desktop\\Analysis_Titanic\\Titanic-analysis\\data\\titanic.csv\"\n",
    "\n",
    "df = pd.read_csv(data)\n",
    "df.info()"
   ]
  }
 ],
 "metadata": {
  "kernelspec": {
   "display_name": ".venv (3.13.2)",
   "language": "python",
   "name": "python3"
  },
  "language_info": {
   "codemirror_mode": {
    "name": "ipython",
    "version": 3
   },
   "file_extension": ".py",
   "mimetype": "text/x-python",
   "name": "python",
   "nbconvert_exporter": "python",
   "pygments_lexer": "ipython3",
   "version": "3.13.2"
  }
 },
 "nbformat": 4,
 "nbformat_minor": 5
}
